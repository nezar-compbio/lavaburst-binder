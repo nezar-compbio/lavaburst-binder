{
 "cells": [
  {
   "cell_type": "code",
   "execution_count": null,
   "metadata": {
    "collapsed": true
   },
   "outputs": [],
   "source": [
    "%matplotlib inline"
   ]
  },
  {
   "cell_type": "code",
   "execution_count": null,
   "metadata": {
    "collapsed": false
   },
   "outputs": [],
   "source": [
    "from __future__ import division, print_function\n",
    "from ipywidgets import interact, FloatSlider\n",
    "import matplotlib.pyplot as plt\n",
    "import seaborn as sns; sns.set_style('white')\n",
    "import numpy as np\n",
    "import pandas\n",
    "\n",
    "import cooler\n",
    "import lavaburst\n",
    "import mirnylib.plotting  # likes to say hi"
   ]
  },
  {
   "cell_type": "code",
   "execution_count": null,
   "metadata": {
    "collapsed": true
   },
   "outputs": [],
   "source": [
    "!wget ftp://levsha.mit.edu/ftp/coolers/hg19/Dixon2015-H1hESC_ES-HindIII-allreps-filtered.5kb.cool"
   ]
  },
  {
   "cell_type": "code",
   "execution_count": null,
   "metadata": {
    "collapsed": true
   },
   "outputs": [],
   "source": [
    "c = cooler.Cooler('Dixon2015-H1hESC_ES-HindIII-allreps-filtered.5kb.cool')"
   ]
  },
  {
   "cell_type": "code",
   "execution_count": null,
   "metadata": {
    "collapsed": true
   },
   "outputs": [],
   "source": [
    "region = 'chr16:12,000,000-16,000,000'\n",
    "mat = c.matrix().fetch(region)\n",
    "bias = c.bintable().fetch(region)['weight'].values\n",
    "mat.data = bias[mat.row] * bias[mat.col] * mat.data\n",
    "A = mat.toarray()\n",
    "A[np.isnan(A)] = 0\n",
    "n = A.shape[0]"
   ]
  },
  {
   "cell_type": "code",
   "execution_count": null,
   "metadata": {
    "collapsed": true
   },
   "outputs": [],
   "source": [
    "@interact(gamma=FloatSlider(value=2, min=0, max=50, step=0.5),\n",
    "          logbeta=FloatSlider(value=6, min=-6, max=8, step=1))\n",
    "def _(gamma, logbeta):\n",
    "    S = lavaburst.scoring.modularity_score(A, gamma=gamma, trim_diags=0)\n",
    "    ranked_scores = np.array(sorted(S.ravel())[::-1])\n",
    "    thresh = np.percentile(ranked_scores[ranked_scores>=0], 50)\n",
    "    \n",
    "    fig = plt.figure()\n",
    "    ax = fig.add_subplot(111)\n",
    "    ax.plot(ranked_scores)\n",
    "    ax.axhline(0, c='k')\n",
    "    ax.axhline(thresh, c='r')\n",
    "    ax.set_xlabel('domain rank')\n",
    "    ax.set_ylabel('domain score')\n",
    "\n",
    "    model = lavaburst.SegModel(S)    \n",
    "    # T = 0\n",
    "    segs = model.optimal_segmentation()\n",
    "    scores = np.array([S[a,b] for a,b in segs])\n",
    "    # finite T\n",
    "    beta = 10**logbeta\n",
    "    prob = model.boundary_marginals(beta)\n",
    "\n",
    "    # heatmaps\n",
    "    At = lavaburst.utils.tilt_heatmap(A, n_diags=500)\n",
    "    St = lavaburst.utils.tilt_heatmap(S, n_diags=500)\n",
    "    fig = plt.figure(figsize=(12,12))\n",
    "    ax = fig.add_subplot(111)\n",
    "    ax.imshow(np.log10(At), interpolation='none', cmap='fall', vmax=2.,\n",
    "              extent=(0, n, -500, 0))\n",
    "    ax.imshow(St, interpolation='none', cmap='fall', vmin=0,\n",
    "              extent=(0, n, 500, 0))\n",
    "    ax.set_aspect(0.5)\n",
    "    ax.set_xlim([0, A.shape[0]])\n",
    "    ax.set_ylim([-500, 500])\n",
    "\n",
    "    # plot optimal domains\n",
    "    for (a,b), s in zip(segs,scores):\n",
    "        color = 'r' if s <= thresh else 'k'\n",
    "        ax.plot([a, (a+b)/2, b], [0, (b-a), 0], color=color, lw=1)\n",
    "    \n",
    "    # plot boundary probs\n",
    "    ax.plot(prob*200)"
   ]
  }
 ],
 "metadata": {
  "kernelspec": {
   "display_name": "Python 3",
   "language": "python",
   "name": "python3"
  },
  "language_info": {
   "codemirror_mode": {
    "name": "ipython",
    "version": 3
   },
   "file_extension": ".py",
   "mimetype": "text/x-python",
   "name": "python",
   "nbconvert_exporter": "python",
   "pygments_lexer": "ipython3",
   "version": "3.5.1"
  }
 },
 "nbformat": 4,
 "nbformat_minor": 0
}
